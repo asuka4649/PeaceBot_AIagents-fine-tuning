!pip install anthropic
import anthropic
import requests

# Claude API Key
CLAUDE_API_KEY = "your_Claude_API"
client = anthropic.Client(api_key=CLAUDE_API_KEY)

# Google Search API Credentials
GOOGLE_API_KEY = "Your_Google_API"
SEARCH_ENGINE_ID = "Your_ID"

# Example few-shot learning prompt
few_shot_prompt = """
You are a historian specializing in religious symbols. Answer concisely and factually.

Q: Explain the original meaning of the swastika in Buddhism.
A: The Swastika is a Buddhist symbol of the incarnation of the Buddha. It symbolizes the enlightened person and the Buddha. The Swastika is widely recognized in Buddhism as a symbol of peace and spiritual awakening.

Q: What is the significance of the swastika symbol in Buddhism?
A: In Buddhism, the swastika symbol represents good fortune, prosperity, and harmony. It is often displayed in Buddhist temples and homes to bring blessings and protection. The symbol is also associated with the Buddha's heart, symbolizing compassion and wisdom.

Q: How is the swastika used in Eastern religions today?
A: In Eastern religions, the swastika is widely used in temples, religious texts, and ceremonies as a symbol of good fortune and spiritual harmony. It continues to denote positive values like well-being and balance.

Q: Explain the original meaning of the Hakenkreuz.
A: In the late 19th and early 20th centuries, some German nationalist groups adopted the Hakenkreuz as a symbol of German heritage and Aryan identity. It became associated with nationalist and völkisch movements before being officially adopted by Nazi Germany as a symbol of their ideology.

Q: How has the swastika historically been a symbol of good fortune, including in early 1900s America?
A: In the early 1900s, the swastika was widely recognized as a universal symbol of good fortune, appearing on items like postcards and architecture. It was seen as a positive emblem representing luck and prosperity.

Q: How do you differentiate the Buddhist swastika from the Nazi Hakenkreuz?
A: The Buddhist swastika typically faces left (counterclockwise) or remains neutral, symbolizing peace and spirituality. The Nazi Hakenkreuz is right-facing (clockwise) and tilted, representing oppression and Nazi ideology. Their meanings and contexts are entirely distinct.

Q: Do you see the necessity to differentiate between the swastika and the Hakenkreuz?
A: Yes, distinguishing between the two is vital to preserve the ancient symbol's positive meanings and prevent its conflation with Nazi ideology. This distinction respects cultural heritage and historical accuracy.

Q: What led to the association of the swastika with negative connotations in the West?
A: The Nazi regime's adoption of the Hakenkreuz during World War II embedded the symbol with associations of hatred, anti-Semitism, and genocide. Nazi propaganda solidified these negative connotations.

Q: Why has the Western world adopted the term 'swastika' instead of Hakenkreuz to refer to the Nazi symbol?
A: The Western use of "swastika" instead of "Hakenkreuz" stems from Allied wartime propaganda and post-war discourse that didn't maintain the linguistic distinction. English-language media consistently used "swastika," cementing this terminology.

Q: What is the rationale for continuing to use 'swastika' for Hakenkreuz, despite its history as a symbol of good fortune in the West?
A: There is no compelling rationale for continuing to use 'swastika' to refer to the Hakenkreuz. Using the term "Hakenkreuz" would better distinguish the Nazi symbol from the swastika’s ancient, positive meanings.

Q: Why do people in Western cultures react negatively to the swastika?
A: Western negative reactions to the swastika stem from its association with the Holocaust and Nazi atrocities. This association overshadows its ancient peaceful meanings and triggers trauma, especially for Jewish communities.

Q: What are the political reasons that the swastika is still stigmatized?
A: The swastika remains stigmatized because it is a powerful reminder of fascism, racism, and anti-Semitism. Hate groups continue to misuse the symbol to promote extremist ideologies.

Q: What is the reason the Hakenkreuz is used as a symbol of anti-Semitism, and why do some fail to see its inherent meaning as a cross?
A: The Hakenkreuz became a symbol of anti-Semitism due to the Nazi regime's use of it to promote racial superiority and hatred. Its overwhelming association with Nazism obscures its original design as a cross.

Q: Should the Buddhist swastika be reintroduced in the West as a symbol of peace?
A: Reintroducing the Buddhist swastika as a symbol of peace requires cultural education and sensitivity. Overcoming its stigma in Western societies may be challenging despite its noble origins.

Q: How can societies reconcile the peaceful use of the swastika with its negative history?
A: Societies can reconcile this by promoting education about the symbol's ancient, positive origins while acknowledging its misuse by the Nazis. Open dialogue and cultural exchange can help reframe its significance.

Q: What steps can be taken to educate people about the swastika's original meaning?
A: Introducing cultural lessons in schools and museums can foster understanding. Media campaigns and collaborations with cultural organizations can also raise awareness of the swastika’s diverse meanings.

Q: What solutions exist to ensure that people do not confuse the swastika with the Hakenkreuz?
A: Clear visual distinctions, such as explaining the orientation and context, can help differentiate the symbols. Encouraging the use of the term "Hakenkreuz" for the Nazi symbol reduces confusion.

Q: How can we address and solve the taboo around the swastika?
A: Addressing the taboo requires cultural re-education through art, history, and interfaith dialogues. Collaboration between Western and Eastern communities can promote understanding and healing.


Now, {question}
"""

# Heuristic check for "Likely Correct but Unverified"
def is_likely_correct(text):
    heuristic_phrases = [
        "has been used for centuries", "commonly associated with", "scholars believe",
        "historically linked to", "widely regarded as", "some evidence suggests",
        "traditionally viewed as", "frequently mentioned in texts",
        "according to historical records", "swastika is an ancient symbol with diverse meanings"
    ]
    return any(phrase in text.lower() for phrase in heuristic_phrases)

# Extract historian answers from few-shot
def extract_few_shot_answers(prompt):
    answers = []
    examples = prompt.strip().split("Q: ")
    for example in examples[1:]:
        if "\nA: " in example:
            answer = example.split("\nA: ")[1].strip()
            answers.append(answer)
    return answers

# Google search for web sources
def fetch_google_search_results(query):
    url = f"https://www.googleapis.com/customsearch/v1?q={query}&key={GOOGLE_API_KEY}&cx={SEARCH_ENGINE_ID}"
    response = requests.get(url)
    if response.status_code == 200:
        items = response.json().get("items", [])
        return [(item["title"], item["link"]) for item in items[:3]]
    else:
        return None

# AI Agent Classifier
def check_response_origin(response_text, few_shot_prompt):
    historian_answers = extract_few_shot_answers(few_shot_prompt)

    for ans in historian_answers:
        if response_text.lower().strip() in ans.lower().strip():
            return "✅ Given Info (Historian-Sourced)", "Few-Shot Prompt", None

    web_sources = fetch_google_search_results(response_text)
    if web_sources:
        return "🌐 Fetched Info (Web-Sourced)", None, web_sources

    return "⚠️ Likely Correct but Unverified", None, None

# Claude AI Generation
def generate_claude_answer(question):
    prompt = few_shot_prompt.format(question=question)
    response = client.completions.create(
        model="claude-2",
        max_tokens_to_sample=300,
        temperature=0.5,
        prompt=anthropic.HUMAN_PROMPT + prompt + anthropic.AI_PROMPT,
    )
    return response.completion.strip()

# Example Question
question = "How can we separate swastika and hakenkreuz?"

# Generate AI answer
ai_answer = generate_claude_answer(question)

# Classify the response
classification, historian_source, web_sources = check_response_origin(ai_answer, few_shot_prompt)

# Print Results
print(f"Question: {question}")
print(f"Answer: {ai_answer}")
print(f"Classification: {classification}")

if classification == "✅ Given Info (Historian-Sourced)":
    print(f"Source: {historian_source}")
elif classification == "🌐 Fetched Info (Web-Sourced)":
    print(f"Web Sources: {web_sources}")
else:
    print("⚠️ Likely Correct but Unverified")
